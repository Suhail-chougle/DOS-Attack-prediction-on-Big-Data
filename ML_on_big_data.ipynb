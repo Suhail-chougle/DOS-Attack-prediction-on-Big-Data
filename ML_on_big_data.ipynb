{
 "cells": [
  {
   "cell_type": "markdown",
   "metadata": {
    "id": "GdMZR-9QTwG3"
   },
   "source": [
    "\n",
    "# **Initiate and Configure Spark**\n",
    "\n",
    "---\n"
   ]
  },
  {
   "cell_type": "code",
   "execution_count": null,
   "metadata": {
    "colab": {
     "base_uri": "https://localhost:8080/"
    },
    "executionInfo": {
     "elapsed": 56382,
     "status": "ok",
     "timestamp": 1651621981749,
     "user": {
      "displayName": "SUFI. tech",
      "userId": "00565647311891913144"
     },
     "user_tz": -60
    },
    "id": "_z0p88Xtw_3-",
    "outputId": "204a8a26-e760-4725-a690-8d5697758b0d"
   },
   "outputs": [
    {
     "name": "stdout",
     "output_type": "stream",
     "text": [
      "Collecting pyspark\n",
      "  Downloading pyspark-3.2.1.tar.gz (281.4 MB)\n",
      "\u001b[K     |████████████████████████████████| 281.4 MB 24 kB/s \n",
      "\u001b[?25hCollecting py4j==0.10.9.3\n",
      "  Downloading py4j-0.10.9.3-py2.py3-none-any.whl (198 kB)\n",
      "\u001b[K     |████████████████████████████████| 198 kB 41.2 MB/s \n",
      "\u001b[?25hBuilding wheels for collected packages: pyspark\n",
      "  Building wheel for pyspark (setup.py) ... \u001b[?25l\u001b[?25hdone\n",
      "  Created wheel for pyspark: filename=pyspark-3.2.1-py2.py3-none-any.whl size=281853642 sha256=9915f316591404dc39d0b954b2521657e1dd84cc9e1f7de370bee900b04d576a\n",
      "  Stored in directory: /root/.cache/pip/wheels/9f/f5/07/7cd8017084dce4e93e84e92efd1e1d5334db05f2e83bcef74f\n",
      "Successfully built pyspark\n",
      "Installing collected packages: py4j, pyspark\n",
      "Successfully installed py4j-0.10.9.3 pyspark-3.2.1\n"
     ]
    }
   ],
   "source": [
    "########## ONLY in Colab ##########\n",
    "!pip3 install pyspark\n",
    "########## ONLY in Colab ##########"
   ]
  },
  {
   "cell_type": "code",
   "execution_count": null,
   "metadata": {
    "id": "pR1iIBr-GVr6"
   },
   "outputs": [],
   "source": [
    "# linking with SparkSession\n",
    "from pyspark.sql import SparkSession\n",
    "group_6_session = SparkSession.builder.master(\"local[*]\").appName('Group 6').getOrCreate()\n"
   ]
  },
  {
   "cell_type": "code",
   "execution_count": null,
   "metadata": {
    "colab": {
     "base_uri": "https://localhost:8080/"
    },
    "executionInfo": {
     "elapsed": 16698,
     "status": "ok",
     "timestamp": 1651622011299,
     "user": {
      "displayName": "SUFI. tech",
      "userId": "00565647311891913144"
     },
     "user_tz": -60
    },
    "id": "lvKexFf9GXWp",
    "outputId": "09cc1763-800f-41dd-ac5f-941849e7ef21"
   },
   "outputs": [
    {
     "name": "stdout",
     "output_type": "stream",
     "text": [
      "Mounted at /content/drive\n"
     ]
    }
   ],
   "source": [
    "########## ONLY in Colab ##########\n",
    "# mount your Google Drive\n",
    "from google.colab import drive\n",
    "drive.mount('/content/drive')\n",
    "########## ONLY in Colab ##########"
   ]
  },
  {
   "cell_type": "markdown",
   "metadata": {
    "id": "6P2CZVl6TOQX"
   },
   "source": [
    "\n",
    "# **Load Data**\n",
    "\n",
    "---\n"
   ]
  },
  {
   "cell_type": "code",
   "execution_count": null,
   "metadata": {
    "id": "hc5GMMvdh5jD"
   },
   "outputs": [],
   "source": [
    "# Load Data from Colab:\n",
    "\n",
    "########## ONLY in Colab ##########\n",
    "\n",
    "main_df = group_6_session.read.option(\"header\", \"true\").csv(\"/content/drive/MyDrive/UNSW-NB15.csv\", inferSchema=True).toDF('srcip',\n",
    "'sport',\n",
    "'dstip',\n",
    "'dsport',\n",
    "'proto',\n",
    "'state',\n",
    "'dur',\n",
    "'sbytes',\n",
    "'dbytes',\n",
    "'sttl',\n",
    "'dttl',\n",
    "'sloss',\n",
    "'dloss',\n",
    "'service',\n",
    "'Sload',\n",
    "'Dload',\n",
    "'Spkts',\n",
    "'Dpkts',\n",
    "'swin',\n",
    "'dwin',\n",
    "'stcpb',\n",
    "'dtcpb',\n",
    "'smeansz',\n",
    "'dmeansz',\n",
    "'trans_depth',\n",
    "'res_bdy_len',\n",
    "'Sjit',\n",
    "'Djit',\n",
    "'Stime',\n",
    "'Ltime',\n",
    "'Sintpkt',\n",
    "'Dintpkt',\n",
    "'tcprtt',\n",
    "'synack',\n",
    "'ackdat',\n",
    "'is_sm_ips_ports',\n",
    "'ct_state_ttl',\n",
    "'ct_flw_http_mthd',\n",
    "'is_ftp_login',\n",
    "'ct_ftp_cmd',\n",
    "'ct_srv_src',\n",
    "'ct_srv_dst',\n",
    "'ct_dst_ltm',\n",
    "'ct_src_ ltm',\n",
    "'ct_src_dport_ltm',\n",
    "'ct_dst_sport_ltm',\n",
    "'ct_dst_src_ltm',\n",
    "'attack_cat',\n",
    "'Label')"
   ]
  },
  {
   "cell_type": "code",
   "execution_count": null,
   "metadata": {
    "id": "NJUscILdGq_A"
   },
   "outputs": [],
   "source": [
    "main_df.show()"
   ]
  },
  {
   "cell_type": "markdown",
   "metadata": {
    "id": "y7YelUT1G8lb"
   },
   "source": [
    "# Data exploration"
   ]
  },
  {
   "cell_type": "code",
   "execution_count": null,
   "metadata": {
    "id": "39jBJyGRP4SI"
   },
   "outputs": [],
   "source": [
    "#main_df.printSchema()"
   ]
  },
  {
   "cell_type": "code",
   "execution_count": null,
   "metadata": {
    "id": "LNlcdZ8CGocy"
   },
   "outputs": [],
   "source": [
    "print((main_df.count(), len(main_df.columns)))"
   ]
  },
  {
   "cell_type": "code",
   "execution_count": null,
   "metadata": {
    "id": "_dKlVRwvGohq"
   },
   "outputs": [],
   "source": [
    "main_df.describe().show()"
   ]
  },
  {
   "cell_type": "code",
   "execution_count": null,
   "metadata": {
    "id": "tu4bQki1A2Z9"
   },
   "outputs": [],
   "source": [
    "from pyspark.sql.functions import col\n",
    "\n",
    "print('List of columns with null values')\n",
    "\n",
    "for cols in main_df.columns:\n",
    "  value = main_df.filter(col(cols).isNull()).count()\n",
    "\n",
    "  if value > 0:\n",
    "    print(cols + ': ' + str(value))"
   ]
  },
  {
   "cell_type": "markdown",
   "metadata": {
    "id": "spCNUlW5AO6Q"
   },
   "source": [
    "## Handling duplicate rows"
   ]
  },
  {
   "cell_type": "code",
   "execution_count": null,
   "metadata": {
    "colab": {
     "base_uri": "https://localhost:8080/"
    },
    "executionInfo": {
     "elapsed": 55779,
     "status": "ok",
     "timestamp": 1651355564209,
     "user": {
      "displayName": "SUFI. tech",
      "userId": "00565647311891913144"
     },
     "user_tz": -60
    },
    "id": "Ld46iRyN-dlk",
    "outputId": "49a1997f-73dc-401c-f13c-b666b5afee7d"
   },
   "outputs": [
    {
     "name": "stdout",
     "output_type": "stream",
     "text": [
      "+----------+\n",
      "|sum(count)|\n",
      "+----------+\n",
      "|    568825|\n",
      "+----------+\n",
      "\n"
     ]
    }
   ],
   "source": [
    "import pyspark.sql.functions as funcs\n",
    "\n",
    "main_df.groupBy(main_df.columns).count().where(funcs.col('count') > 1).select(funcs.sum('count')).show()"
   ]
  },
  {
   "cell_type": "code",
   "execution_count": null,
   "metadata": {
    "id": "J2krcdplKAMZ"
   },
   "outputs": [],
   "source": [
    "main_df = main_df.dropDuplicates(main_df.columns)"
   ]
  },
  {
   "cell_type": "code",
   "execution_count": null,
   "metadata": {
    "colab": {
     "base_uri": "https://localhost:8080/"
    },
    "executionInfo": {
     "elapsed": 54466,
     "status": "ok",
     "timestamp": 1651355618673,
     "user": {
      "displayName": "SUFI. tech",
      "userId": "00565647311891913144"
     },
     "user_tz": -60
    },
    "id": "QR7B_tmFKAOw",
    "outputId": "aa9b185c-ec9d-4947-9c1f-678881964d61"
   },
   "outputs": [
    {
     "name": "stdout",
     "output_type": "stream",
     "text": [
      "+----------+\n",
      "|sum(count)|\n",
      "+----------+\n",
      "|      null|\n",
      "+----------+\n",
      "\n"
     ]
    }
   ],
   "source": [
    "import pyspark.sql.functions as funcs\n",
    "\n",
    "main_df.groupBy(main_df.columns).count().where(funcs.col('count') > 1).select(funcs.sum('count')).show()"
   ]
  },
  {
   "cell_type": "markdown",
   "metadata": {
    "id": "rHAAkH45AGCl"
   },
   "source": [
    "## Find numeric and categorical column"
   ]
  },
  {
   "cell_type": "code",
   "execution_count": null,
   "metadata": {
    "colab": {
     "base_uri": "https://localhost:8080/"
    },
    "executionInfo": {
     "elapsed": 923,
     "status": "ok",
     "timestamp": 1651622051987,
     "user": {
      "displayName": "SUFI. tech",
      "userId": "00565647311891913144"
     },
     "user_tz": -60
    },
    "id": "pw8KGs4c_T6l",
    "outputId": "1fb3d721-2d5b-4a63-906e-4cf357862dda"
   },
   "outputs": [
    {
     "name": "stdout",
     "output_type": "stream",
     "text": [
      "Numeric columns ['sport', 'dsport', 'dur', 'sbytes', 'dbytes', 'sttl', 'dttl', 'sloss', 'dloss', 'Sload', 'Dload', 'Spkts', 'Dpkts', 'swin', 'dwin', 'stcpb', 'dtcpb', 'smeansz', 'dmeansz', 'trans_depth', 'res_bdy_len', 'Sjit', 'Djit', 'Stime', 'Ltime', 'Sintpkt', 'Dintpkt', 'tcprtt', 'synack', 'ackdat', 'is_sm_ips_ports', 'ct_state_ttl', 'ct_flw_http_mthd', 'is_ftp_login', 'ct_ftp_cmd', 'ct_srv_src', 'ct_srv_dst', 'ct_dst_ltm', 'ct_src_ ltm', 'ct_src_dport_ltm', 'ct_dst_sport_ltm', 'ct_dst_src_ltm', 'Label']\n",
      "categorical columns ['srcip', 'dstip', 'proto', 'state', 'service', 'attack_cat']\n"
     ]
    }
   ],
   "source": [
    "numeric_columns = list()\n",
    "categorical_column = list()\n",
    "\n",
    "for col_ in main_df.columns:\n",
    "    if main_df.select(col_).dtypes[0][1] != \"string\":\n",
    "        numeric_columns.append(col_)\n",
    "    else:\n",
    "        categorical_column.append(col_)\n",
    "        \n",
    "print(\"Numeric columns\",numeric_columns)\n",
    "print(\"categorical columns\",categorical_column)"
   ]
  },
  {
   "cell_type": "markdown",
   "metadata": {
    "id": "XKNcvLgWOr1w"
   },
   "source": [
    "## Visualizing distribution of each attack"
   ]
  },
  {
   "cell_type": "code",
   "execution_count": null,
   "metadata": {
    "id": "3jYix5ZCbJsW"
   },
   "outputs": [],
   "source": [
    "pd_df = main_df.select('attack_cat').toPandas()"
   ]
  },
  {
   "cell_type": "code",
   "execution_count": null,
   "metadata": {
    "colab": {
     "base_uri": "https://localhost:8080/",
     "height": 611
    },
    "executionInfo": {
     "elapsed": 1910,
     "status": "ok",
     "timestamp": 1651355670476,
     "user": {
      "displayName": "SUFI. tech",
      "userId": "00565647311891913144"
     },
     "user_tz": -60
    },
    "id": "i4pPxORPNxC-",
    "outputId": "6e579f8e-1319-43a9-81ee-62c9e85a2f91"
   },
   "outputs": [
    {
     "data": {
      "image/png": "[encoded data removed]",
      "text/plain": [
       "<Figure size 1440x720 with 1 Axes>"
      ]
     },
     "metadata": {
      "needs_background": "light"
     },
     "output_type": "display_data"
    }
   ],
   "source": [
    "import matplotlib.pyplot as plt\n",
    "import seaborn as sns\n",
    "\n",
    "plt.figure(figsize = (20,10))\n",
    "\n",
    "sns.set_theme(style=\"darkgrid\")\n",
    "ax = sns.countplot(x=\"attack_cat\", data=pd_df)"
   ]
  },
  {
   "cell_type": "markdown",
   "metadata": {
    "id": "30vNrL_oH5Th"
   },
   "source": [
    "# **Data pre-processing**"
   ]
  },
  {
   "cell_type": "markdown",
   "metadata": {
    "id": "AwEQYCl9HJIs"
   },
   "source": [
    "# Handling \"null\" in the  column \"attack_cat\""
   ]
  },
  {
   "cell_type": "code",
   "execution_count": null,
   "metadata": {
    "colab": {
     "base_uri": "https://localhost:8080/"
    },
    "executionInfo": {
     "elapsed": 44518,
     "status": "ok",
     "timestamp": 1651355714992,
     "user": {
      "displayName": "SUFI. tech",
      "userId": "00565647311891913144"
     },
     "user_tz": -60
    },
    "id": "-BxF2M7aGomd",
    "outputId": "f4a6f307-1f2c-4dc9-a7e5-e2073c126316"
   },
   "outputs": [
    {
     "name": "stdout",
     "output_type": "stream",
     "text": [
      "+-----+-------+\n",
      "|Label|  count|\n",
      "+-----+-------+\n",
      "|    1|  99643|\n",
      "|    0|1959471|\n",
      "+-----+-------+\n",
      "\n"
     ]
    }
   ],
   "source": [
    "main_df.groupBy('Label').count().show()"
   ]
  },
  {
   "cell_type": "code",
   "execution_count": null,
   "metadata": {
    "colab": {
     "base_uri": "https://localhost:8080/"
    },
    "executionInfo": {
     "elapsed": 40185,
     "status": "ok",
     "timestamp": 1651355755169,
     "user": {
      "displayName": "SUFI. tech",
      "userId": "00565647311891913144"
     },
     "user_tz": -60
    },
    "id": "UziszRWTGopY",
    "outputId": "481545bb-9b87-4909-bde7-51e902c9808f"
   },
   "outputs": [
    {
     "name": "stdout",
     "output_type": "stream",
     "text": [
      "+---------------+-------+\n",
      "|     attack_cat|  count|\n",
      "+---------------+-------+\n",
      "|          Worms|    171|\n",
      "|      Shellcode|    223|\n",
      "|           null|1959471|\n",
      "|      Backdoors|    299|\n",
      "|        Fuzzers|   3991|\n",
      "|       Analysis|   2184|\n",
      "|     Shellcode |   1288|\n",
      "|            DoS|   5665|\n",
      "|Reconnaissance |  11617|\n",
      "| Reconnaissance|   1740|\n",
      "|       Backdoor|   1684|\n",
      "|       Fuzzers |  17804|\n",
      "|       Exploits|  27599|\n",
      "|        Generic|  25378|\n",
      "+---------------+-------+\n",
      "\n"
     ]
    }
   ],
   "source": [
    "#Attack_cat has null values, but these \"null\" actually are \"No attack recorded\" and hence we replace the label\n",
    "main_df.groupBy('attack_cat').count().show()"
   ]
  },
  {
   "cell_type": "code",
   "execution_count": null,
   "metadata": {
    "id": "X8V3fVtBGor5"
   },
   "outputs": [],
   "source": [
    "main_df = main_df.na.fill(value='no_atttack',subset=[\"attack_cat\"])"
   ]
  },
  {
   "cell_type": "markdown",
   "metadata": {
    "id": "Zu2MaXV1HegL"
   },
   "source": [
    "# String indexing the non-numeric features"
   ]
  },
  {
   "cell_type": "code",
   "execution_count": null,
   "metadata": {
    "id": "DSaYgho9GoxJ"
   },
   "outputs": [],
   "source": [
    "#main_df.printSchema()"
   ]
  },
  {
   "cell_type": "code",
   "execution_count": null,
   "metadata": {
    "id": "74AP_58pGozx"
   },
   "outputs": [],
   "source": [
    "string_features = [\"srcip\",\"dstip\",\"state\",\"service\",\"proto\"]"
   ]
  },
  {
   "cell_type": "code",
   "execution_count": null,
   "metadata": {
    "id": "4Qh69-uLGo4p"
   },
   "outputs": [],
   "source": [
    "from pyspark.ml.feature import IndexToString, StringIndexer, VectorIndexer\n",
    "from pyspark.ml.feature import VectorAssembler\n",
    "from pyspark.ml.feature import OneHotEncoder"
   ]
  },
  {
   "cell_type": "code",
   "execution_count": null,
   "metadata": {
    "id": "x-6uKexuGo7K"
   },
   "outputs": [],
   "source": [
    "for col in string_features:\n",
    "  suhail_stringindexer = StringIndexer(inputCol=col, outputCol=\"{0}_index\".format(col)).fit(main_df)\n",
    "  main_df = suhail_stringindexer.transform(main_df)\n",
    "\n",
    "  encoder = OneHotEncoder(dropLast=False, inputCol=\"{0}_index\".format(col), outputCol=\"{0}_vec\".format(col)).fit(main_df)\n",
    "  main_df = encoder.transform(main_df)"
   ]
  },
  {
   "cell_type": "code",
   "execution_count": null,
   "metadata": {
    "id": "98nv1ydvL19A"
   },
   "outputs": [],
   "source": [
    "new_main_df = main_df.drop(*['service', 'srcip', 'dstip','state','service_index','proto', 'srcip_index', 'dstip_index','state_index','proto_index'])"
   ]
  },
  {
   "cell_type": "code",
   "execution_count": null,
   "metadata": {
    "id": "q07X-73pGo9z"
   },
   "outputs": [],
   "source": [
    "cols = new_main_df.columns\n",
    "cols.remove(\"Label\")\n",
    "cols.remove(\"attack_cat\")"
   ]
  },
  {
   "cell_type": "code",
   "execution_count": null,
   "metadata": {
    "colab": {
     "base_uri": "https://localhost:8080/"
    },
    "executionInfo": {
     "elapsed": 39382,
     "status": "ok",
     "timestamp": 1651356002172,
     "user": {
      "displayName": "SUFI. tech",
      "userId": "00565647311891913144"
     },
     "user_tz": -60
    },
    "id": "saDfd1WrGpAQ",
    "outputId": "f69311b7-33bd-4f36-8d43-81b62e113818"
   },
   "outputs": [
    {
     "name": "stdout",
     "output_type": "stream",
     "text": [
      "(2059114, 49)\n"
     ]
    }
   ],
   "source": [
    "print((new_main_df.count(), len(new_main_df.columns)))"
   ]
  },
  {
   "cell_type": "markdown",
   "metadata": {
    "id": "fCOwaEqdJrk_"
   },
   "source": [
    "# Vector-assembling all the features"
   ]
  },
  {
   "cell_type": "code",
   "execution_count": null,
   "metadata": {
    "id": "1QRC5mrdGpDB"
   },
   "outputs": [],
   "source": [
    "from pyspark.ml.feature import VectorAssembler\n",
    "\n",
    "assembler = VectorAssembler(inputCols=cols,outputCol=\"features\")\n",
    "\n",
    "final_df = assembler.transform(new_main_df)"
   ]
  },
  {
   "cell_type": "code",
   "execution_count": null,
   "metadata": {
    "id": "qHIfG1_nGpFQ"
   },
   "outputs": [],
   "source": [
    "#final_df.select(\"features\",\"Label\").show(truncate=False)"
   ]
  },
  {
   "cell_type": "markdown",
   "metadata": {
    "id": "POiKDu54NVdX"
   },
   "source": [
    "# Standard-scaling the features"
   ]
  },
  {
   "cell_type": "code",
   "execution_count": null,
   "metadata": {
    "id": "FCkvSqpQGpIF"
   },
   "outputs": [],
   "source": [
    "from pyspark.ml.feature import StandardScaler\n",
    "standardscaler=StandardScaler().setInputCol(\"features\").setOutputCol(\"Scaled_features\")\n",
    "final_df=standardscaler.fit(final_df).transform(final_df)"
   ]
  },
  {
   "cell_type": "code",
   "execution_count": null,
   "metadata": {
    "id": "OH2K62SiH_cR"
   },
   "outputs": [],
   "source": [
    "final_df.select(\"Scaled_features\",\"Label\").show(truncate=False)"
   ]
  },
  {
   "cell_type": "code",
   "execution_count": null,
   "metadata": {
    "id": "Sp7me0K9H_e0"
   },
   "outputs": [],
   "source": [
    "#Train, test split\n",
    "train, test = final_df.randomSplit([0.8, 0.2], seed=12345)"
   ]
  },
  {
   "cell_type": "markdown",
   "metadata": {
    "id": "Q6A8HAVuIFWq"
   },
   "source": [
    "# Checking for imbalance in the data"
   ]
  },
  {
   "cell_type": "code",
   "execution_count": null,
   "metadata": {
    "id": "aNjSuqd7H_hZ"
   },
   "outputs": [],
   "source": [
    "dataset_size=float(train.select(\"Label\").count())\n",
    "\n",
    "numPositives = train.select(\"Label\").where('Label == 1').count()\n",
    "\n",
    "per_ones=(float(numPositives)/float(dataset_size))*100\n",
    "\n",
    "numNegatives=float(dataset_size-numPositives)\n"
   ]
  },
  {
   "cell_type": "code",
   "execution_count": null,
   "metadata": {
    "colab": {
     "base_uri": "https://localhost:8080/"
    },
    "executionInfo": {
     "elapsed": 130,
     "status": "ok",
     "timestamp": 1651356310435,
     "user": {
      "displayName": "SUFI. tech",
      "userId": "00565647311891913144"
     },
     "user_tz": -60
    },
    "id": "Iw5jKj2MH_jq",
    "outputId": "ccebdc1d-223f-4a7e-bec5-ff8269f3cf21"
   },
   "outputs": [
    {
     "name": "stdout",
     "output_type": "stream",
     "text": [
      "Percentage of Attacks are 4.837840560309622\n",
      "Percentage of non-attacks are 95.16215943969038\n"
     ]
    }
   ],
   "source": [
    "print('Percentage of Attacks are {}'.format(per_ones))\n",
    "print('Percentage of non-attacks are {}'.format(100-per_ones))"
   ]
  },
  {
   "cell_type": "code",
   "execution_count": null,
   "metadata": {
    "id": "BT1kVRXAPJ-M"
   },
   "outputs": [],
   "source": [
    "train_pd_df = main_df.select('Label').toPandas()\n",
    "\n"
   ]
  },
  {
   "cell_type": "code",
   "execution_count": null,
   "metadata": {
    "colab": {
     "base_uri": "https://localhost:8080/",
     "height": 437
    },
    "executionInfo": {
     "elapsed": 837,
     "status": "ok",
     "timestamp": 1651356363743,
     "user": {
      "displayName": "SUFI. tech",
      "userId": "00565647311891913144"
     },
     "user_tz": -60
    },
    "id": "LOxXDdweqDHb",
    "outputId": "bfb00e99-c178-4f02-eafd-4f8f8c448844"
   },
   "outputs": [
    {
     "data": {
      "image/png": "[encoded data removed]",
      "text/plain": [
       "<Figure size 800x500 with 1 Axes>"
      ]
     },
     "metadata": {},
     "output_type": "display_data"
    }
   ],
   "source": [
    "\n",
    "import matplotlib.pyplot as plt\n",
    "plt.figure(figsize=(8,5), dpi=100)\n",
    "plt.style.use('ggplot')\n",
    "\n",
    "explode = (.2, .2)   \n",
    "\n",
    "plt.pie(train_pd_df['Label'].value_counts(), explode=explode, pctdistance=0.6,autopct='%.2f %%',labels = ['No_attack','Attacked'], shadow=True,startangle=340,wedgeprops={'edgecolor':'black'})\n",
    "\n",
    "plt.title('Distribution of attacks')\n",
    "\n",
    "plt.show()"
   ]
  },
  {
   "cell_type": "code",
   "execution_count": null,
   "metadata": {
    "colab": {
     "base_uri": "https://localhost:8080/"
    },
    "executionInfo": {
     "elapsed": 8,
     "status": "ok",
     "timestamp": 1651356363743,
     "user": {
      "displayName": "SUFI. tech",
      "userId": "00565647311891913144"
     },
     "user_tz": -60
    },
    "id": "ePWJho52H_mL",
    "outputId": "47fd9dac-2a3e-4b4d-fde2-1ca9bd264fa2"
   },
   "outputs": [
    {
     "name": "stdout",
     "output_type": "stream",
     "text": [
      "BalancingRatio = 0.9516215943969037\n"
     ]
    }
   ],
   "source": [
    "BalancingRatio= numNegatives/dataset_size\n",
    "print('BalancingRatio = {}'.format(BalancingRatio))"
   ]
  },
  {
   "cell_type": "code",
   "execution_count": null,
   "metadata": {
    "id": "OPmOOKFcH_ox"
   },
   "outputs": [],
   "source": [
    "from pyspark.sql.functions import when\n",
    "\n",
    "train = train.withColumn(\"classWeights\", when(train.Label == 1,BalancingRatio).otherwise(1-BalancingRatio))\n"
   ]
  },
  {
   "cell_type": "code",
   "execution_count": null,
   "metadata": {
    "id": "MP1AoELZH_rW"
   },
   "outputs": [],
   "source": [
    "#train.select(\"Scaled_features\", \"Label\",\"classWeights\").show(truncate=False)"
   ]
  },
  {
   "cell_type": "markdown",
   "metadata": {
    "id": "6NXj1Lnl8w_y"
   },
   "source": [
    "## User-defined/helper functions"
   ]
  },
  {
   "cell_type": "code",
   "execution_count": null,
   "metadata": {
    "id": "tV__ckDIsTEF"
   },
   "outputs": [],
   "source": [
    "#function for evaluating accuracy \n",
    "\n",
    "\n",
    "from pyspark.ml.evaluation import MulticlassClassificationEvaluator\n",
    "\n",
    "def accuracy_eval(predictions):\n",
    "  eval = MulticlassClassificationEvaluator(labelCol=\"Label\", predictionCol=\"prediction\", metricName=\"accuracy\")\n",
    "\n",
    "  results = eval.evaluate(predictions)\n",
    "\n",
    "  print(f'Accuracy is {round((results*100),2)}% ')"
   ]
  },
  {
   "cell_type": "code",
   "execution_count": null,
   "metadata": {
    "id": "C4v7SUygI-dX"
   },
   "outputs": [],
   "source": [
    "#function to plot confusion matrix\n",
    "\n",
    "\n",
    "import numpy as np\n",
    "import seaborn as sns\n",
    "\n",
    "def plt_cm(cm):\n",
    "    group_names = ['True Neg','False Pos','False Neg','True Pos']\n",
    "    group_counts = [\"{0:0.0f}\".format(value) for value in\n",
    "                    cm.flatten()]\n",
    "\n",
    "    group_percentages = [\"{0:.2%}\".format(value) for value in\n",
    "                         cm.flatten()/np.sum(cm)]\n",
    "\n",
    "    labels = [f\"{v1}\\n{v2}\\n{v3}\" for v1, v2, v3 in\n",
    "              zip(group_names,group_counts,group_percentages)]\n",
    "    labels = np.asarray(labels).reshape(2,2)\n",
    "    \n",
    "    return labels"
   ]
  },
  {
   "cell_type": "code",
   "execution_count": null,
   "metadata": {
    "id": "6yRyXJQU7oOx"
   },
   "outputs": [],
   "source": [
    "#function for classification report and confusion matrix\n",
    "\n",
    "\n",
    "fn_list = list()\n",
    "tp_list = list()\n",
    "\n",
    "from sklearn.metrics import classification_report, confusion_matrix\n",
    "def cr_and_cm(predictions):\n",
    "  y_true_values = predictions.select(['Label']).collect()\n",
    "  y_pred_values = predictions.select(['prediction']).collect()\n",
    "\n",
    "  cr = classification_report(y_true_values, y_pred_values)\n",
    "  print(cr)\n",
    "\n",
    "  from sklearn.metrics import confusion_matrix\n",
    "  cm = confusion_matrix(y_true_values, y_pred_values)\n",
    "\n",
    "  fn_list.append(cm[1][0])\n",
    "  tp_list.append(cm[1][1])\n",
    "\n",
    "  plt.figure(figsize = (10,8))\n",
    "\n",
    "  labels = plt_cm(cm)\n",
    "  sns.heatmap(cm, annot=labels, fmt='', cmap='Blues', annot_kws={\"size\": 18})"
   ]
  },
  {
   "cell_type": "markdown",
   "metadata": {
    "id": "BzeEcPunfxzH"
   },
   "source": [
    "\n",
    "# **Task 1 - Binary Classifier [20 marks]**\n",
    "\n",
    "---\n"
   ]
  },
  {
   "cell_type": "markdown",
   "metadata": {
    "id": "UdP9X8Tk0kfN"
   },
   "source": [
    "## ***Logistic Regression***\n",
    "-------"
   ]
  },
  {
   "cell_type": "code",
   "execution_count": null,
   "metadata": {
    "id": "FfrNX4xtIYLT"
   },
   "outputs": [],
   "source": [
    "from pyspark.ml.classification import LogisticRegression\n",
    "\n",
    "lr_clf = LogisticRegression(labelCol=\"Label\", featuresCol=\"Scaled_features\", weightCol = \"classWeights\")\n",
    "\n",
    "model = lr_clf.fit(train)\n",
    "\n",
    "lr_predictions = model.transform(test)"
   ]
  },
  {
   "cell_type": "code",
   "execution_count": null,
   "metadata": {
    "colab": {
     "base_uri": "https://localhost:8080/"
    },
    "executionInfo": {
     "elapsed": 51347,
     "status": "ok",
     "timestamp": 1651356884426,
     "user": {
      "displayName": "SUFI. tech",
      "userId": "00565647311891913144"
     },
     "user_tz": -60
    },
    "id": "JLoWaXThH_tR",
    "outputId": "242a20f7-0a9d-4767-d5d5-58a1ac8aaa0e"
   },
   "outputs": [
    {
     "name": "stdout",
     "output_type": "stream",
     "text": [
      "+-----+----------+\n",
      "|Label|prediction|\n",
      "+-----+----------+\n",
      "|    0|       0.0|\n",
      "|    0|       0.0|\n",
      "|    0|       0.0|\n",
      "|    0|       0.0|\n",
      "|    0|       0.0|\n",
      "|    0|       0.0|\n",
      "|    0|       0.0|\n",
      "|    0|       0.0|\n",
      "|    0|       0.0|\n",
      "|    0|       0.0|\n",
      "|    0|       0.0|\n",
      "|    0|       0.0|\n",
      "|    0|       0.0|\n",
      "|    0|       0.0|\n",
      "|    0|       0.0|\n",
      "|    0|       0.0|\n",
      "|    0|       0.0|\n",
      "|    0|       0.0|\n",
      "|    0|       0.0|\n",
      "|    0|       0.0|\n",
      "+-----+----------+\n",
      "only showing top 20 rows\n",
      "\n"
     ]
    }
   ],
   "source": [
    "from os import truncate\n",
    "lr_predictions.select(\"Label\",\"prediction\").show()"
   ]
  },
  {
   "cell_type": "markdown",
   "metadata": {
    "id": "p7DTPZqRI0xY"
   },
   "source": [
    "## Evaluation of Logistic regression"
   ]
  },
  {
   "cell_type": "code",
   "execution_count": null,
   "metadata": {
    "colab": {
     "base_uri": "https://localhost:8080/"
    },
    "executionInfo": {
     "elapsed": 102651,
     "status": "ok",
     "timestamp": 1651356987074,
     "user": {
      "displayName": "SUFI. tech",
      "userId": "00565647311891913144"
     },
     "user_tz": -60
    },
    "id": "pVOzaguU6uIf",
    "outputId": "39e3e5a1-3417-4f03-d5a9-d2be81270249"
   },
   "outputs": [
    {
     "name": "stdout",
     "output_type": "stream",
     "text": [
      "Accuracy is 98.61% \n"
     ]
    }
   ],
   "source": [
    "accuracy_eval(lr_predictions)"
   ]
  },
  {
   "cell_type": "code",
   "execution_count": null,
   "metadata": {
    "colab": {
     "base_uri": "https://localhost:8080/"
    },
    "executionInfo": {
     "elapsed": 149089,
     "status": "ok",
     "timestamp": 1651357136160,
     "user": {
      "displayName": "SUFI. tech",
      "userId": "00565647311891913144"
     },
     "user_tz": -60
    },
    "id": "vrNYtbrMI6vf",
    "outputId": "30fcd2aa-fe5e-4a8c-ced0-1bd90748cf1a"
   },
   "outputs": [
    {
     "name": "stdout",
     "output_type": "stream",
     "text": [
      "Area under ROC Curve: 0.9924\n",
      "+-----+----------+-----------+\n",
      "|Label|prediction|probability|\n",
      "+-----+----------+-----------+\n",
      "|    0|       0.0|  [1.0,0.0]|\n",
      "|    0|       0.0|  [1.0,0.0]|\n",
      "|    0|       0.0|  [1.0,0.0]|\n",
      "|    0|       0.0|  [1.0,0.0]|\n",
      "|    0|       0.0|  [1.0,0.0]|\n",
      "|    0|       0.0|  [1.0,0.0]|\n",
      "|    0|       0.0|  [1.0,0.0]|\n",
      "|    0|       0.0|  [1.0,0.0]|\n",
      "|    0|       0.0|  [1.0,0.0]|\n",
      "|    0|       0.0|  [1.0,0.0]|\n",
      "|    0|       0.0|  [1.0,0.0]|\n",
      "|    0|       0.0|  [1.0,0.0]|\n",
      "|    0|       0.0|  [1.0,0.0]|\n",
      "|    0|       0.0|  [1.0,0.0]|\n",
      "|    0|       0.0|  [1.0,0.0]|\n",
      "+-----+----------+-----------+\n",
      "only showing top 15 rows\n",
      "\n"
     ]
    }
   ],
   "source": [
    "#Evaluating the model using ROC curve\n",
    "\n",
    "\n",
    "\n",
    "from pyspark.ml.evaluation import BinaryClassificationEvaluator\n",
    "\n",
    "evaluator=BinaryClassificationEvaluator(rawPredictionCol='prediction',labelCol=\"Label\")\n",
    "auroc = evaluator.evaluate(lr_predictions, {evaluator.metricName: \"areaUnderROC\"})\n",
    "\n",
    "print(\"Area under ROC Curve: {:.4f}\".format(auroc))\n",
    "\n",
    "lr_predictions.select(\"Label\",\"prediction\",\"probability\").show(15)\n"
   ]
  },
  {
   "cell_type": "code",
   "execution_count": null,
   "metadata": {
    "colab": {
     "base_uri": "https://localhost:8080/",
     "height": 372
    },
    "executionInfo": {
     "elapsed": 151791,
     "status": "ok",
     "timestamp": 1651357287948,
     "user": {
      "displayName": "SUFI. tech",
      "userId": "00565647311891913144"
     },
     "user_tz": -60
    },
    "id": "qFMLPnQlI6yH",
    "outputId": "972a1f40-ac6a-4a81-9171-45bd8386f675"
   },
   "outputs": [
    {
     "name": "stderr",
     "output_type": "stream",
     "text": [
      "/usr/local/lib/python3.7/dist-packages/pyspark/sql/context.py:127: FutureWarning: Deprecated in 3.0.0. Use SparkSession.builder.getOrCreate() instead.\n",
      "  FutureWarning\n"
     ]
    },
    {
     "data": {
      "image/png": "[encoded data removed]",
      "text/plain": [
       "<Figure size 432x288 with 1 Axes>"
      ]
     },
     "metadata": {},
     "output_type": "display_data"
    },
    {
     "name": "stdout",
     "output_type": "stream",
     "text": [
      "Model Accuracy 0.9924013425571316\n",
      "FP rate [0.0002759485732204722, 0.014921366312501926]\n",
      "TP rate [0.9850786336874982, 0.9997240514267796]\n"
     ]
    }
   ],
   "source": [
    "#Model summary \n",
    "\n",
    "\n",
    "\n",
    "import matplotlib.pyplot as plt\n",
    "pr = model.summary.pr.toPandas()\n",
    "plt.plot(pr['recall'],pr['precision'])\n",
    "plt.ylabel('Precision')\n",
    "plt.xlabel('Recall')\n",
    "plt.show()\n",
    "print(\"Model Accuracy\",model.summary.accuracy)\n",
    "print(\"FP rate\",model.summary.falsePositiveRateByLabel)\n",
    "print(\"TP rate\",model.summary.truePositiveRateByLabel)"
   ]
  },
  {
   "cell_type": "code",
   "execution_count": null,
   "metadata": {
    "colab": {
     "base_uri": "https://localhost:8080/",
     "height": 641
    },
    "executionInfo": {
     "elapsed": 219699,
     "status": "ok",
     "timestamp": 1651357507646,
     "user": {
      "displayName": "SUFI. tech",
      "userId": "00565647311891913144"
     },
     "user_tz": -60
    },
    "id": "xpweBpDQ9NpR",
    "outputId": "aba34058-2e08-4d58-b478-e876efd11572"
   },
   "outputs": [
    {
     "name": "stdout",
     "output_type": "stream",
     "text": [
      "              precision    recall  f1-score   support\n",
      "\n",
      "           0       1.00      0.99      0.99    391250\n",
      "           1       0.78      1.00      0.87     19918\n",
      "\n",
      "    accuracy                           0.99    411168\n",
      "   macro avg       0.89      0.99      0.93    411168\n",
      "weighted avg       0.99      0.99      0.99    411168\n",
      "\n"
     ]
    },
    {
     "data": {
      "image/png": "[encoded data removed]",
      "text/plain": [
       "<Figure size 720x576 with 2 Axes>"
      ]
     },
     "metadata": {},
     "output_type": "display_data"
    }
   ],
   "source": [
    "cr_and_cm(lr_predictions)"
   ]
  },
  {
   "cell_type": "markdown",
   "metadata": {
    "id": "OGA2Bqys1p-9"
   },
   "source": [
    "---\n",
    "## ***Gradient-boosted tree classifier***\n",
    "---"
   ]
  },
  {
   "cell_type": "code",
   "execution_count": null,
   "metadata": {
    "id": "CFH26FaI2GU-"
   },
   "outputs": [],
   "source": [
    "from pyspark.ml.classification import DecisionTreeClassifier\n",
    "\n",
    "dt_clf = DecisionTreeClassifier(labelCol=\"Label\", featuresCol=\"Scaled_features\", weightCol = \"classWeights\")\n",
    "\n",
    "model = dt_clf.fit(train)\n",
    "\n",
    "dt_predictions = model.transform(test)"
   ]
  },
  {
   "cell_type": "markdown",
   "metadata": {
    "id": "d03pDv__3Qgn"
   },
   "source": [
    "## Evaluation of Decision tree classfifier"
   ]
  },
  {
   "cell_type": "code",
   "execution_count": null,
   "metadata": {
    "colab": {
     "base_uri": "https://localhost:8080/"
    },
    "executionInfo": {
     "elapsed": 93483,
     "status": "ok",
     "timestamp": 1651358009133,
     "user": {
      "displayName": "SUFI. tech",
      "userId": "00565647311891913144"
     },
     "user_tz": -60
    },
    "id": "VH4MZjsJ2GXc",
    "outputId": "72e4d9ce-847e-42a7-8475-abec828e8189"
   },
   "outputs": [
    {
     "name": "stdout",
     "output_type": "stream",
     "text": [
      "Accuracy is 98.59% \n"
     ]
    }
   ],
   "source": [
    "accuracy_eval(dt_predictions)"
   ]
  },
  {
   "cell_type": "code",
   "execution_count": null,
   "metadata": {
    "colab": {
     "base_uri": "https://localhost:8080/",
     "height": 641
    },
    "executionInfo": {
     "elapsed": 210250,
     "status": "ok",
     "timestamp": 1651358219381,
     "user": {
      "displayName": "SUFI. tech",
      "userId": "00565647311891913144"
     },
     "user_tz": -60
    },
    "id": "XkV2afAp9Zzi",
    "outputId": "8947088e-48b0-4103-f5b2-6c5deabfe7d6"
   },
   "outputs": [
    {
     "name": "stdout",
     "output_type": "stream",
     "text": [
      "              precision    recall  f1-score   support\n",
      "\n",
      "           0       1.00      0.99      0.99    391250\n",
      "           1       0.77      1.00      0.87     19918\n",
      "\n",
      "    accuracy                           0.99    411168\n",
      "   macro avg       0.89      0.99      0.93    411168\n",
      "weighted avg       0.99      0.99      0.99    411168\n",
      "\n"
     ]
    },
    {
     "data": {
      "image/png": "[encoded data removed]",
      "text/plain": [
       "<Figure size 720x576 with 2 Axes>"
      ]
     },
     "metadata": {},
     "output_type": "display_data"
    }
   ],
   "source": [
    "cr_and_cm(dt_predictions)"
   ]
  },
  {
   "cell_type": "markdown",
   "metadata": {
    "id": "c7is5-4k4AAt"
   },
   "source": [
    "---\n",
    "## ***Naive Bayes classfier***\n",
    "---"
   ]
  },
  {
   "cell_type": "code",
   "execution_count": null,
   "metadata": {
    "id": "QjvtUY6j2Gra"
   },
   "outputs": [],
   "source": [
    "from pyspark.ml.classification import NaiveBayes\n",
    "\n",
    "nb = NaiveBayes(labelCol=\"Label\", featuresCol=\"Scaled_features\", weightCol = \"classWeights\", smoothing=1.0, modelType=\"multinomial\")\n",
    "model = nb.fit(train)\n",
    "nb_predictions = model.transform(test)"
   ]
  },
  {
   "cell_type": "code",
   "execution_count": null,
   "metadata": {
    "colab": {
     "base_uri": "https://localhost:8080/"
    },
    "executionInfo": {
     "elapsed": 91820,
     "status": "ok",
     "timestamp": 1651358457503,
     "user": {
      "displayName": "SUFI. tech",
      "userId": "00565647311891913144"
     },
     "user_tz": -60
    },
    "id": "kdSYxnta5zl8",
    "outputId": "c433f913-3bf9-40fd-8771-985038c2d24f"
   },
   "outputs": [
    {
     "name": "stdout",
     "output_type": "stream",
     "text": [
      "Accuracy is 98.18% \n"
     ]
    }
   ],
   "source": [
    "accuracy_eval(nb_predictions)"
   ]
  },
  {
   "cell_type": "code",
   "execution_count": null,
   "metadata": {
    "colab": {
     "base_uri": "https://localhost:8080/",
     "height": 641
    },
    "executionInfo": {
     "elapsed": 203650,
     "status": "ok",
     "timestamp": 1651358661151,
     "user": {
      "displayName": "SUFI. tech",
      "userId": "00565647311891913144"
     },
     "user_tz": -60
    },
    "id": "qGIL3oYi5zn5",
    "outputId": "859b1dac-795f-407f-da02-5e11b5fb0540"
   },
   "outputs": [
    {
     "name": "stdout",
     "output_type": "stream",
     "text": [
      "              precision    recall  f1-score   support\n",
      "\n",
      "           0       1.00      0.98      0.99    391250\n",
      "           1       0.73      1.00      0.84     19918\n",
      "\n",
      "    accuracy                           0.98    411168\n",
      "   macro avg       0.86      0.99      0.92    411168\n",
      "weighted avg       0.99      0.98      0.98    411168\n",
      "\n"
     ]
    },
    {
     "data": {
      "image/png": "[encoded data removed]",
      "text/plain": [
       "<Figure size 720x576 with 2 Axes>"
      ]
     },
     "metadata": {},
     "output_type": "display_data"
    }
   ],
   "source": [
    "cr_and_cm(nb_predictions)"
   ]
  },
  {
   "cell_type": "markdown",
   "metadata": {
    "id": "IRGHM3rOsKvU"
   },
   "source": [
    "\n",
    "# **Task 2 - Multi Classifier [25 marks]**\n",
    "\n",
    "---\n"
   ]
  },
  {
   "cell_type": "code",
   "execution_count": null,
   "metadata": {
    "id": "6oAJuyTBsRO-"
   },
   "outputs": [],
   "source": [
    "# Machine Learning Technique, configuration, etc.:\n",
    "# Place your notes here. \n",
    "\n"
   ]
  },
  {
   "cell_type": "code",
   "execution_count": null,
   "metadata": {
    "id": "3NlQNFReF4iT"
   },
   "outputs": [],
   "source": [
    "#string indexing the \"attack_cat\" column\n",
    "stringindexer = StringIndexer(inputCol=\"attack_cat\", outputCol=\"attack_index\" ).fit(new_main_df)\n",
    "main_df = stringindexer.transform(new_main_df)\n"
   ]
  },
  {
   "cell_type": "code",
   "execution_count": null,
   "metadata": {
    "id": "T68ZRXYAQGFG"
   },
   "outputs": [],
   "source": [
    "cols = main_df.columns\n",
    "cols.remove(\"Label\")\n",
    "cols.remove(\"attack_cat\")\n",
    "cols.remove(\"attack_index\")"
   ]
  },
  {
   "cell_type": "markdown",
   "metadata": {
    "id": "oXVebqM2QjjC"
   },
   "source": [
    "# Vector-assembling all the features"
   ]
  },
  {
   "cell_type": "code",
   "execution_count": null,
   "metadata": {
    "id": "b3v4K6dxQQKo"
   },
   "outputs": [],
   "source": [
    "from pyspark.ml.feature import VectorAssembler\n",
    "\n",
    "assembler = VectorAssembler(inputCols=cols,outputCol=\"features\")\n",
    "\n",
    "final_df = assembler.transform(main_df)"
   ]
  },
  {
   "cell_type": "code",
   "execution_count": null,
   "metadata": {
    "colab": {
     "base_uri": "https://localhost:8080/"
    },
    "executionInfo": {
     "elapsed": 45475,
     "status": "ok",
     "timestamp": 1651358752673,
     "user": {
      "displayName": "SUFI. tech",
      "userId": "00565647311891913144"
     },
     "user_tz": -60
    },
    "id": "ggInSz61Q-D8",
    "outputId": "3763af5a-ad21-488b-e0c3-a3b33562fd91"
   },
   "outputs": [
    {
     "name": "stdout",
     "output_type": "stream",
     "text": [
      "+--------------------+------------+\n",
      "|            features|attack_index|\n",
      "+--------------------+------------+\n",
      "|(295,[0,1,2,3,4,5...|         0.0|\n",
      "|(295,[0,1,2,3,4,5...|         0.0|\n",
      "|(295,[0,1,2,3,4,5...|         0.0|\n",
      "|(295,[0,1,2,3,4,5...|         0.0|\n",
      "|(295,[0,1,2,3,4,5...|         0.0|\n",
      "|(295,[0,1,2,3,4,5...|         0.0|\n",
      "|(295,[0,1,2,3,4,5...|         0.0|\n",
      "|(295,[0,1,2,3,4,5...|         0.0|\n",
      "|(295,[0,1,2,3,4,5...|         0.0|\n",
      "|(295,[0,1,2,3,4,5...|         0.0|\n",
      "|(295,[0,1,2,3,4,5...|         0.0|\n",
      "|(295,[0,1,2,3,4,5...|         0.0|\n",
      "|(295,[0,1,2,3,4,5...|         0.0|\n",
      "|(295,[0,1,2,3,4,5...|         0.0|\n",
      "|(295,[0,1,2,3,4,5...|         0.0|\n",
      "|(295,[0,1,2,3,4,5...|         0.0|\n",
      "|(295,[0,1,2,3,4,5...|         0.0|\n",
      "|(295,[0,1,2,3,4,5...|         0.0|\n",
      "|(295,[0,1,2,3,4,5...|         0.0|\n",
      "|(295,[0,1,2,3,4,5...|         0.0|\n",
      "+--------------------+------------+\n",
      "only showing top 20 rows\n",
      "\n"
     ]
    }
   ],
   "source": [
    "final_df.select(\"features\",\"attack_index\").show()"
   ]
  },
  {
   "cell_type": "markdown",
   "metadata": {
    "id": "0qjty8qKQodF"
   },
   "source": [
    "# Standard-scaling the features"
   ]
  },
  {
   "cell_type": "code",
   "execution_count": null,
   "metadata": {
    "id": "XIenI4ZAQemD"
   },
   "outputs": [],
   "source": [
    "from pyspark.ml.feature import StandardScaler\n",
    "standardscaler=StandardScaler().setInputCol(\"features\").setOutputCol(\"Scaled_features\")\n",
    "scaled_final_df=standardscaler.fit(final_df).transform(final_df)"
   ]
  },
  {
   "cell_type": "code",
   "execution_count": null,
   "metadata": {
    "colab": {
     "base_uri": "https://localhost:8080/"
    },
    "executionInfo": {
     "elapsed": 37488,
     "status": "ok",
     "timestamp": 1651358854876,
     "user": {
      "displayName": "SUFI. tech",
      "userId": "00565647311891913144"
     },
     "user_tz": -60
    },
    "id": "VGoeC1xURG05",
    "outputId": "69e3ea93-46c5-423f-8956-4023f9181c45"
   },
   "outputs": [
    {
     "name": "stdout",
     "output_type": "stream",
     "text": [
      "+--------------------+------------+\n",
      "|     Scaled_features|attack_index|\n",
      "+--------------------+------------+\n",
      "|(295,[0,1,2,3,4,5...|         0.0|\n",
      "|(295,[0,1,2,3,4,5...|         0.0|\n",
      "|(295,[0,1,2,3,4,5...|         0.0|\n",
      "|(295,[0,1,2,3,4,5...|         0.0|\n",
      "|(295,[0,1,2,3,4,5...|         0.0|\n",
      "|(295,[0,1,2,3,4,5...|         0.0|\n",
      "|(295,[0,1,2,3,4,5...|         0.0|\n",
      "|(295,[0,1,2,3,4,5...|         0.0|\n",
      "|(295,[0,1,2,3,4,5...|         0.0|\n",
      "|(295,[0,1,2,3,4,5...|         0.0|\n",
      "|(295,[0,1,2,3,4,5...|         0.0|\n",
      "|(295,[0,1,2,3,4,5...|         0.0|\n",
      "|(295,[0,1,2,3,4,5...|         0.0|\n",
      "|(295,[0,1,2,3,4,5...|         0.0|\n",
      "|(295,[0,1,2,3,4,5...|         0.0|\n",
      "|(295,[0,1,2,3,4,5...|         0.0|\n",
      "|(295,[0,1,2,3,4,5...|         0.0|\n",
      "|(295,[0,1,2,3,4,5...|         0.0|\n",
      "|(295,[0,1,2,3,4,5...|         0.0|\n",
      "|(295,[0,1,2,3,4,5...|         0.0|\n",
      "+--------------------+------------+\n",
      "only showing top 20 rows\n",
      "\n"
     ]
    }
   ],
   "source": [
    "scaled_final_df.select(\"Scaled_features\",\"attack_index\").show()"
   ]
  },
  {
   "cell_type": "code",
   "execution_count": null,
   "metadata": {
    "id": "6F0uIKSJGKUD"
   },
   "outputs": [],
   "source": [
    "from pyspark.sql.functions import col\n",
    "from pyspark.sql.types import StringType,BooleanType,DateType,FloatType\n",
    "\n",
    "scaled_final_df = scaled_final_df.withColumn(\"attack_index\",col(\"attack_index\").cast(FloatType())) "
   ]
  },
  {
   "cell_type": "code",
   "execution_count": null,
   "metadata": {
    "id": "eF8ispemSTBd"
   },
   "outputs": [],
   "source": [
    "(training, testing) = scaled_final_df.randomSplit([0.7, 0.3])"
   ]
  },
  {
   "cell_type": "markdown",
   "metadata": {
    "id": "8i1jhHuRQwj7"
   },
   "source": [
    "# Model building"
   ]
  },
  {
   "cell_type": "code",
   "execution_count": null,
   "metadata": {
    "id": "KzpW1FnfF4kz"
   },
   "outputs": [],
   "source": [
    "from pyspark.ml.classification import RandomForestClassifier\n",
    "\n",
    "rf_classifier = RandomForestClassifier(labelCol=\"attack_index\", featuresCol=\"Scaled_features\", numTrees=8)"
   ]
  },
  {
   "cell_type": "code",
   "execution_count": null,
   "metadata": {
    "id": "XsB0yF4wF4nj"
   },
   "outputs": [],
   "source": [
    "rf_model = rf_classifier.fit(training)\n",
    "rf_predictions = rf_model.transform(testing)"
   ]
  },
  {
   "cell_type": "code",
   "execution_count": null,
   "metadata": {
    "id": "FbISiWmKF4qE"
   },
   "outputs": [],
   "source": [
    "back_converter = IndexToString(inputCol=\"prediction\", outputCol=\"predicted_attack\", labels=stringindexer.labels)\n",
    "final_predictions = back_converter.transform(rf_predictions).select('Scaled_features','attack_index','predicted_attack','prediction')\n"
   ]
  },
  {
   "cell_type": "code",
   "execution_count": null,
   "metadata": {
    "colab": {
     "base_uri": "https://localhost:8080/"
    },
    "executionInfo": {
     "elapsed": 59238,
     "status": "ok",
     "timestamp": 1651359356503,
     "user": {
      "displayName": "SUFI. tech",
      "userId": "00565647311891913144"
     },
     "user_tz": -60
    },
    "id": "tVcpfGUsF4sp",
    "outputId": "668dbaa5-03d0-4033-feb5-4418cd23ee2e"
   },
   "outputs": [
    {
     "name": "stdout",
     "output_type": "stream",
     "text": [
      "+--------------------+------------+----------------+----------+\n",
      "|     Scaled_features|attack_index|predicted_attack|prediction|\n",
      "+--------------------+------------+----------------+----------+\n",
      "|(295,[3,11,17,23,...|         0.0|      no_atttack|       0.0|\n",
      "|(295,[3,11,17,23,...|         0.0|      no_atttack|       0.0|\n",
      "|(295,[3,11,17,23,...|         0.0|      no_atttack|       0.0|\n",
      "|(295,[3,11,17,23,...|         0.0|      no_atttack|       0.0|\n",
      "|(295,[3,11,17,23,...|         0.0|      no_atttack|       0.0|\n",
      "|(295,[3,11,17,23,...|         0.0|      no_atttack|       0.0|\n",
      "|(295,[3,11,17,23,...|         0.0|      no_atttack|       0.0|\n",
      "|(295,[3,11,17,23,...|         0.0|      no_atttack|       0.0|\n",
      "|(295,[3,11,17,23,...|         0.0|      no_atttack|       0.0|\n",
      "|(295,[3,11,17,23,...|         0.0|      no_atttack|       0.0|\n",
      "|(295,[3,11,17,23,...|         0.0|      no_atttack|       0.0|\n",
      "|(295,[3,11,17,23,...|         0.0|      no_atttack|       0.0|\n",
      "|(295,[3,11,17,23,...|         0.0|      no_atttack|       0.0|\n",
      "|(295,[3,11,17,23,...|         0.0|      no_atttack|       0.0|\n",
      "|(295,[3,11,17,23,...|         0.0|      no_atttack|       0.0|\n",
      "|(295,[3,11,17,23,...|         0.0|      no_atttack|       0.0|\n",
      "|(295,[3,11,17,23,...|         0.0|      no_atttack|       0.0|\n",
      "|(295,[3,11,17,23,...|         0.0|      no_atttack|       0.0|\n",
      "|(295,[3,11,17,23,...|         0.0|      no_atttack|       0.0|\n",
      "|(295,[3,11,17,23,...|         0.0|      no_atttack|       0.0|\n",
      "+--------------------+------------+----------------+----------+\n",
      "only showing top 20 rows\n",
      "\n"
     ]
    }
   ],
   "source": [
    "final_predictions.show()"
   ]
  },
  {
   "cell_type": "markdown",
   "metadata": {
    "id": "CEUYm2GnJE5f"
   },
   "source": [
    "# Evaluation of Multi-class classfier"
   ]
  },
  {
   "cell_type": "code",
   "execution_count": null,
   "metadata": {
    "colab": {
     "base_uri": "https://localhost:8080/"
    },
    "executionInfo": {
     "elapsed": 101933,
     "status": "ok",
     "timestamp": 1651359458434,
     "user": {
      "displayName": "SUFI. tech",
      "userId": "00565647311891913144"
     },
     "user_tz": -60
    },
    "id": "kQXGugtHJOf4",
    "outputId": "f0223cdc-3c57-4d92-b31f-6b1cbf050f2f"
   },
   "outputs": [
    {
     "name": "stdout",
     "output_type": "stream",
     "text": [
      "Accuracy is 97.07% with test error 2.93%\n"
     ]
    }
   ],
   "source": [
    "#Accuracy\n",
    "\n",
    "multi_class_model = MulticlassClassificationEvaluator(labelCol=\"attack_index\", predictionCol=\"prediction\", metricName=\"accuracy\")\n",
    "\n",
    "accuracy = multi_class_model.evaluate(final_predictions)\n",
    "\n",
    "print(f'Accuracy is {round((accuracy*100),2)}% with test error {round((1 - accuracy)*100,2)}%')"
   ]
  },
  {
   "cell_type": "code",
   "execution_count": null,
   "metadata": {
    "id": "BFE10eKmJOib"
   },
   "outputs": [],
   "source": [
    "y_true_values = final_predictions.select(['attack_index']).collect()\n",
    "y_pred_values = final_predictions.select(['prediction']).collect()"
   ]
  },
  {
   "cell_type": "code",
   "execution_count": null,
   "metadata": {
    "colab": {
     "base_uri": "https://localhost:8080/"
    },
    "executionInfo": {
     "elapsed": 15124,
     "status": "ok",
     "timestamp": 1651359679119,
     "user": {
      "displayName": "SUFI. tech",
      "userId": "00565647311891913144"
     },
     "user_tz": -60
    },
    "id": "dyOjrg-OJOk5",
    "outputId": "bb46b85c-b51f-47f5-c0e6-3f694f1ed6a8"
   },
   "outputs": [
    {
     "name": "stderr",
     "output_type": "stream",
     "text": [
      "/usr/local/lib/python3.7/dist-packages/sklearn/metrics/_classification.py:1318: UndefinedMetricWarning: Precision and F-score are ill-defined and being set to 0.0 in labels with no predicted samples. Use `zero_division` parameter to control this behavior.\n",
      "  _warn_prf(average, modifier, msg_start, len(result))\n",
      "/usr/local/lib/python3.7/dist-packages/sklearn/metrics/_classification.py:1318: UndefinedMetricWarning: Precision and F-score are ill-defined and being set to 0.0 in labels with no predicted samples. Use `zero_division` parameter to control this behavior.\n",
      "  _warn_prf(average, modifier, msg_start, len(result))\n"
     ]
    },
    {
     "name": "stdout",
     "output_type": "stream",
     "text": [
      "              precision    recall  f1-score   support\n",
      "\n",
      "         0.0       0.97      1.00      0.99    586586\n",
      "         1.0       0.69      0.62      0.65      8386\n",
      "         2.0       0.97      0.79      0.87      7596\n",
      "         3.0       0.00      0.00      0.00      5375\n",
      "         4.0       0.85      0.33      0.48      3474\n",
      "         5.0       0.00      0.00      0.00      1689\n",
      "         6.0       0.00      0.00      0.00      1211\n",
      "         7.0       0.00      0.00      0.00       652\n",
      "         8.0       0.00      0.00      0.00       520\n",
      "         9.0       0.00      0.00      0.00       476\n",
      "        10.0       0.00      0.00      0.00       400\n",
      "        11.0       0.00      0.00      0.00        81\n",
      "        12.0       0.00      0.00      0.00        67\n",
      "        13.0       0.00      0.00      0.00        55\n",
      "\n",
      "    accuracy                           0.97    616568\n",
      "   macro avg       0.25      0.20      0.21    616568\n",
      "weighted avg       0.95      0.97      0.96    616568\n",
      "\n"
     ]
    },
    {
     "name": "stderr",
     "output_type": "stream",
     "text": [
      "/usr/local/lib/python3.7/dist-packages/sklearn/metrics/_classification.py:1318: UndefinedMetricWarning: Precision and F-score are ill-defined and being set to 0.0 in labels with no predicted samples. Use `zero_division` parameter to control this behavior.\n",
      "  _warn_prf(average, modifier, msg_start, len(result))\n"
     ]
    }
   ],
   "source": [
    "#Classification report\n",
    "\n",
    "from sklearn.metrics import classification_report, confusion_matrix\n",
    "cm = classification_report(y_true_values, y_pred_values)\n",
    "print(cm)"
   ]
  },
  {
   "cell_type": "markdown",
   "metadata": {
    "id": "7B_jAqyMsSsl"
   },
   "source": [
    "\n",
    "# **Task 3 - Performance Measurements [15 marks]**\n",
    "\n",
    "---\n"
   ]
  },
  {
   "cell_type": "markdown",
   "metadata": {
    "id": "3WfLOmPXFfFd"
   },
   "source": [
    "## Comparing the results of binary classifiers\n",
    "---"
   ]
  },
  {
   "cell_type": "code",
   "execution_count": null,
   "metadata": {
    "id": "3fdlVH7UJCNM"
   },
   "outputs": [],
   "source": [
    "labels = ['Log.Reg-'+str(tp_list[0]), 'Dcsn tree-'+str(tp_list[1]), 'Naive Bay.-'+str(tp_list[2])]"
   ]
  },
  {
   "cell_type": "code",
   "execution_count": null,
   "metadata": {
    "colab": {
     "base_uri": "https://localhost:8080/",
     "height": 286
    },
    "executionInfo": {
     "elapsed": 664,
     "status": "ok",
     "timestamp": 1651359679781,
     "user": {
      "displayName": "SUFI. tech",
      "userId": "00565647311891913144"
     },
     "user_tz": -60
    },
    "id": "Xwkr-g0s-25r",
    "outputId": "5936adc0-b134-436a-a7ce-6f0c4381cd58"
   },
   "outputs": [
    {
     "data": {
      "image/png": "[encoded data removed]",
      "text/plain": [
       "<Figure size 432x288 with 1 Axes>"
      ]
     },
     "metadata": {},
     "output_type": "display_data"
    }
   ],
   "source": [
    "plt.style.use('ggplot')\n",
    "plt.bar(labels, tp_list, color='salmon',log=True)\n",
    "plt.ylabel('Count',fontweight='bold',fontsize=14.0)\n",
    "plt.xlabel('True Positives',fontweight='bold',fontsize=14.0)\n",
    "plt.show()"
   ]
  },
  {
   "cell_type": "code",
   "execution_count": null,
   "metadata": {
    "id": "a6oT5OwxzGgm"
   },
   "outputs": [],
   "source": [
    "labels2 =  ['Log.Reg-'+str(fn_list[0]), 'Dcsn tree-'+str(fn_list[1]), 'Naive Bay.-'+str(fn_list[2])]"
   ]
  },
  {
   "cell_type": "code",
   "execution_count": null,
   "metadata": {
    "colab": {
     "base_uri": "https://localhost:8080/",
     "height": 286
    },
    "executionInfo": {
     "elapsed": 426,
     "status": "ok",
     "timestamp": 1651359680204,
     "user": {
      "displayName": "SUFI. tech",
      "userId": "00565647311891913144"
     },
     "user_tz": -60
    },
    "id": "zJVYf7Lx-279",
    "outputId": "c7504156-3065-476c-cf61-c3b59e5f8d64"
   },
   "outputs": [
    {
     "data": {
      "image/png": "[encoded data removed]",
      "text/plain": [
       "<Figure size 432x288 with 1 Axes>"
      ]
     },
     "metadata": {},
     "output_type": "display_data"
    }
   ],
   "source": [
    "plt.style.use('ggplot')\n",
    "plt.bar(labels2, fn_list, color='darkturquoise',log=True)\n",
    "plt.ylabel('Count',fontweight='bold',fontsize=14.0)\n",
    "plt.xlabel('False Negatives',fontweight='bold',fontsize=14.0)\n",
    "plt.show()"
   ]
  },
  {
   "cell_type": "markdown",
   "metadata": {
    "id": "mIM6uLApSxi2"
   },
   "source": [
    "# **Convert ipynb to HTML for Turnitin submission**\n",
    "\n",
    "---\n",
    "\n"
   ]
  },
  {
   "cell_type": "code",
   "execution_count": null,
   "metadata": {
    "colab": {
     "base_uri": "https://localhost:8080/"
    },
    "executionInfo": {
     "elapsed": 4854,
     "status": "ok",
     "timestamp": 1651359685053,
     "user": {
      "displayName": "SUFI. tech",
      "userId": "00565647311891913144"
     },
     "user_tz": -60
    },
    "id": "ZrQu11N_DCfZ",
    "outputId": "a0ee21e3-24c8-46a3-d839-da75527ea8f8"
   },
   "outputs": [
    {
     "name": "stdout",
     "output_type": "stream",
     "text": [
      "Requirement already satisfied: nbconvert in /usr/local/lib/python3.7/dist-packages (5.6.1)\n",
      "Requirement already satisfied: pandocfilters>=1.4.1 in /usr/local/lib/python3.7/dist-packages (from nbconvert) (1.5.0)\n",
      "Requirement already satisfied: bleach in /usr/local/lib/python3.7/dist-packages (from nbconvert) (5.0.0)\n",
      "Requirement already satisfied: defusedxml in /usr/local/lib/python3.7/dist-packages (from nbconvert) (0.7.1)\n",
      "Requirement already satisfied: pygments in /usr/local/lib/python3.7/dist-packages (from nbconvert) (2.6.1)\n",
      "Requirement already satisfied: jinja2>=2.4 in /usr/local/lib/python3.7/dist-packages (from nbconvert) (2.11.3)\n",
      "Requirement already satisfied: mistune<2,>=0.8.1 in /usr/local/lib/python3.7/dist-packages (from nbconvert) (0.8.4)\n",
      "Requirement already satisfied: traitlets>=4.2 in /usr/local/lib/python3.7/dist-packages (from nbconvert) (5.1.1)\n",
      "Requirement already satisfied: nbformat>=4.4 in /usr/local/lib/python3.7/dist-packages (from nbconvert) (5.3.0)\n",
      "Requirement already satisfied: testpath in /usr/local/lib/python3.7/dist-packages (from nbconvert) (0.6.0)\n",
      "Requirement already satisfied: entrypoints>=0.2.2 in /usr/local/lib/python3.7/dist-packages (from nbconvert) (0.4)\n",
      "Requirement already satisfied: jupyter-core in /usr/local/lib/python3.7/dist-packages (from nbconvert) (4.10.0)\n",
      "Requirement already satisfied: MarkupSafe>=0.23 in /usr/local/lib/python3.7/dist-packages (from jinja2>=2.4->nbconvert) (2.0.1)\n",
      "Requirement already satisfied: fastjsonschema in /usr/local/lib/python3.7/dist-packages (from nbformat>=4.4->nbconvert) (2.15.3)\n",
      "Requirement already satisfied: jsonschema>=2.6 in /usr/local/lib/python3.7/dist-packages (from nbformat>=4.4->nbconvert) (4.3.3)\n",
      "Requirement already satisfied: importlib-metadata in /usr/local/lib/python3.7/dist-packages (from jsonschema>=2.6->nbformat>=4.4->nbconvert) (4.11.3)\n",
      "Requirement already satisfied: pyrsistent!=0.17.0,!=0.17.1,!=0.17.2,>=0.14.0 in /usr/local/lib/python3.7/dist-packages (from jsonschema>=2.6->nbformat>=4.4->nbconvert) (0.18.1)\n",
      "Requirement already satisfied: importlib-resources>=1.4.0 in /usr/local/lib/python3.7/dist-packages (from jsonschema>=2.6->nbformat>=4.4->nbconvert) (5.7.1)\n",
      "Requirement already satisfied: attrs>=17.4.0 in /usr/local/lib/python3.7/dist-packages (from jsonschema>=2.6->nbformat>=4.4->nbconvert) (21.4.0)\n",
      "Requirement already satisfied: typing-extensions in /usr/local/lib/python3.7/dist-packages (from jsonschema>=2.6->nbformat>=4.4->nbconvert) (4.2.0)\n",
      "Requirement already satisfied: zipp>=3.1.0 in /usr/local/lib/python3.7/dist-packages (from importlib-resources>=1.4.0->jsonschema>=2.6->nbformat>=4.4->nbconvert) (3.8.0)\n",
      "Requirement already satisfied: six>=1.9.0 in /usr/local/lib/python3.7/dist-packages (from bleach->nbconvert) (1.15.0)\n",
      "Requirement already satisfied: webencodings in /usr/local/lib/python3.7/dist-packages (from bleach->nbconvert) (0.5.1)\n"
     ]
    }
   ],
   "source": [
    "# install nbconvert (if facing with conversion error)\n",
    "!pip3 install nbconvert "
   ]
  },
  {
   "cell_type": "code",
   "execution_count": null,
   "metadata": {
    "colab": {
     "base_uri": "https://localhost:8080/"
    },
    "executionInfo": {
     "elapsed": 1764,
     "status": "ok",
     "timestamp": 1651360236248,
     "user": {
      "displayName": "SUFI. tech",
      "userId": "00565647311891913144"
     },
     "user_tz": -60
    },
    "id": "1u_4oHMMFRU-",
    "outputId": "f9b767b2-29a8-4e84-eaac-0f550718e1f4"
   },
   "outputs": [
    {
     "name": "stdout",
     "output_type": "stream",
     "text": [
      "[NbConvertApp] Converting notebook //content/Group_6_ML.ipynb to html\n",
      "[NbConvertApp] Writing 594784 bytes to //content/Group_6_ML.html\n"
     ]
    },
    {
     "data": {
      "text/plain": []
     },
     "execution_count": 78,
     "metadata": {},
     "output_type": "execute_result"
    }
   ],
   "source": [
    "%%shell\n",
    "jupyter nbconvert --to html //content/Group_6_ML.ipynb"
   ]
  },
  {
   "cell_type": "code",
   "execution_count": null,
   "metadata": {
    "id": "oHh7lXaytfPi"
   },
   "outputs": [],
   "source": []
  }
 ],
 "metadata": {
  "colab": {
   "collapsed_sections": [
    "Lx9-Fre4FMda"
   ],
   "name": "Group_6-ML.ipynb",
   "provenance": []
  },
  "kernelspec": {
   "display_name": "Python 3",
   "language": "python",
   "name": "python3"
  },
  "language_info": {
   "codemirror_mode": {
    "name": "ipython",
    "version": 3
   },
   "file_extension": ".py",
   "mimetype": "text/x-python",
   "name": "python",
   "nbconvert_exporter": "python",
   "pygments_lexer": "ipython3",
   "version": "3.8.5"
  }
 },
 "nbformat": 4,
 "nbformat_minor": 1
}
